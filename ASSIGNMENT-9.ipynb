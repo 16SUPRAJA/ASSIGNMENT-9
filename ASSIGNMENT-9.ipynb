{
 "cells": [
  {
   "cell_type": "markdown",
   "id": "f62316e7",
   "metadata": {},
   "source": [
    "## 1. To what does a relative path refer?"
   ]
  },
  {
   "cell_type": "markdown",
   "id": "88262c0a",
   "metadata": {},
   "source": [
    "A relative path defines a location that is relative to the current directory or folder, we can start extract path from parent location or by name.It is mostly used when there are nested paths."
   ]
  },
  {
   "cell_type": "markdown",
   "id": "5267c144",
   "metadata": {},
   "source": [
    "## 2. What does an absolute path start with your operating system?"
   ]
  },
  {
   "cell_type": "markdown",
   "id": "7c405e27",
   "metadata": {},
   "source": [
    "The full path of directory is called absolute path, the root is described by slash so the root directory beginig with slash,they are easily understandable and clear but when there are multiple nested paths they are tidious."
   ]
  },
  {
   "cell_type": "markdown",
   "id": "dca0ac87",
   "metadata": {},
   "source": [
    "## 3. What do the functions os.getcwd() and os.chdir() do?\n"
   ]
  },
  {
   "cell_type": "markdown",
   "id": "66d270ef",
   "metadata": {},
   "source": [
    "os.getcwd() means  from os to see the current working directory.\n",
    "os.chdir() means from os change directory from present to user required path."
   ]
  },
  {
   "cell_type": "markdown",
   "id": "5fba85ac",
   "metadata": {},
   "source": [
    "## 4. What are the . and .. folders?\n"
   ]
  },
  {
   "cell_type": "code",
   "execution_count": null,
   "id": "570dab07",
   "metadata": {},
   "outputs": [],
   "source": [
    ". mentions each folder itself  ,  .. is the folder above the current folder(parent folder)."
   ]
  },
  {
   "cell_type": "markdown",
   "id": "8dfdd3ae",
   "metadata": {},
   "source": [
    "## 5. In C:\\bacon\\eggs\\spam.txt, which part is the dir name, and which part is the base name?"
   ]
  },
  {
   "cell_type": "markdown",
   "id": "48fec216",
   "metadata": {},
   "source": [
    "directory name is C:\\bacon\\eggs ,\n",
    "base name is spam.txt"
   ]
  },
  {
   "cell_type": "markdown",
   "id": "808bfaf9",
   "metadata": {},
   "source": [
    "## 6. What are the three “mode” arguments that can be passed to the open() function?"
   ]
  },
  {
   "cell_type": "markdown",
   "id": "34594b3b",
   "metadata": {},
   "source": [
    "read(r), write(w), append(a)"
   ]
  },
  {
   "cell_type": "markdown",
   "id": "fae5f935",
   "metadata": {},
   "source": [
    "## 7. What happens if an existing file is opened in write mode?"
   ]
  },
  {
   "cell_type": "markdown",
   "id": "2022dbff",
   "metadata": {},
   "source": [
    "An existing file opened in write mode is erased and completely overwritten from scratch."
   ]
  },
  {
   "cell_type": "markdown",
   "id": "a88d5569",
   "metadata": {},
   "source": [
    "## 8. How do you tell the difference between read() and readlines()?\n"
   ]
  },
  {
   "cell_type": "markdown",
   "id": "ff6434f6",
   "metadata": {},
   "source": [
    "read() gives the whole information of file in one string where as readlines() gives each line of the file, if we want we can give the number of line which we want to read. In both the casess after reading the whole file if we give again give read command it displace nothing because the curser is at begining of the new line(which is not written)."
   ]
  },
  {
   "cell_type": "markdown",
   "id": "d9dd1602",
   "metadata": {},
   "source": [
    "## 9. What data structure does a shelf value resemble?\n"
   ]
  },
  {
   "cell_type": "markdown",
   "id": "ec155442",
   "metadata": {},
   "source": [
    "The Shelf is an interface feature in NeXTSTEP and OPENSTEP, it is resembled by dictionary data type."
   ]
  }
 ],
 "metadata": {
  "kernelspec": {
   "display_name": "Python 3",
   "language": "python",
   "name": "python3"
  },
  "language_info": {
   "codemirror_mode": {
    "name": "ipython",
    "version": 3
   },
   "file_extension": ".py",
   "mimetype": "text/x-python",
   "name": "python",
   "nbconvert_exporter": "python",
   "pygments_lexer": "ipython3",
   "version": "3.8.8"
  }
 },
 "nbformat": 4,
 "nbformat_minor": 5
}
